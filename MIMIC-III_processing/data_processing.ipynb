{
 "cells": [
  {
   "cell_type": "code",
   "execution_count": 2,
   "id": "cb535545",
   "metadata": {},
   "outputs": [],
   "source": [
    "import pandas as pd\n",
    "import numpy as np\n",
    "import math\n",
    "import pickle"
   ]
  },
  {
   "cell_type": "markdown",
   "id": "deb8d66c",
   "metadata": {},
   "source": [
    "### Find the most often diagnosed things in the dataset."
   ]
  },
  {
   "cell_type": "code",
   "execution_count": 3,
   "id": "a4a7eeae",
   "metadata": {},
   "outputs": [],
   "source": [
    "# find the most often diagnosed things in the MIMIC dataset\n",
    "data = pd.read_csv('../MIMIC-III/DIAGNOSES_ICD.csv')\n",
    "d = {}\n",
    "\n",
    "for index, row in data.iterrows():\n",
    "    cur_val = d.get(row['ICD9_CODE'])\n",
    "    if cur_val == None:\n",
    "        d[row['ICD9_CODE']] = 1\n",
    "    else:\n",
    "        d[row['ICD9_CODE']] += 1"
   ]
  },
  {
   "cell_type": "code",
   "execution_count": 4,
   "id": "91e80a30",
   "metadata": {},
   "outputs": [],
   "source": [
    "# create a dictionary mapping ICD9 code to a diagnosis in words\n",
    "\n",
    "ICD9_map = pd.read_csv('../MIMIC-III/D_ICD_DIAGNOSES.csv')\n",
    "diagnosis_dictionary = {}\n",
    "\n",
    "for index, row in ICD9_map.iterrows():\n",
    "    diagnosis_dictionary[row['ICD9_CODE']] = row['LONG_TITLE']"
   ]
  },
  {
   "cell_type": "code",
   "execution_count": 5,
   "id": "5d7294fe",
   "metadata": {},
   "outputs": [],
   "source": [
    "# create a new dictionary from sorted_d that transforms the ICD 9 codes to string diagnoses\n",
    "\n",
    "labeled_d = {}\n",
    "for icd9_code in d:\n",
    "    # ignore diagnoses that are not defined in the table\n",
    "    if diagnosis_dictionary.get(icd9_code) == None:\n",
    "        continue\n",
    "    \n",
    "    labeled_d[diagnosis_dictionary[icd9_code]] = d[icd9_code]\n",
    "\n",
    "    \n",
    "sorted_labeled_d = sorted(labeled_d.items(), key=lambda x:x[1])\n",
    "sorted_labeled_d.reverse()"
   ]
  },
  {
   "cell_type": "markdown",
   "id": "85021ca2",
   "metadata": {},
   "source": [
    "### Find amount of unique individuals in the dataset."
   ]
  },
  {
   "cell_type": "code",
   "execution_count": null,
   "id": "30d64ebe",
   "metadata": {},
   "outputs": [],
   "source": [
    "# find the amount of unique individuals in the DIAGNOSES_ICD dataset\n",
    "\n",
    "unique_individuals = set()\n",
    "\n",
    "for index, row in data.iterrows():\n",
    "    unique_individuals.add(row['SUBJECT_ID'])\n",
    "\n",
    "len(unique_individuals)"
   ]
  },
  {
   "cell_type": "markdown",
   "id": "f04a3f17",
   "metadata": {},
   "source": [
    "### Find all the patients that received a diagnosis for atrial fibrillation."
   ]
  },
  {
   "cell_type": "code",
   "execution_count": 5,
   "id": "5eaee924",
   "metadata": {},
   "outputs": [],
   "source": [
    "# create a csv where for each patient we output whether or not they received a diagnosis for atrial fibrillation\n",
    "\n",
    "atrial_fib_data = {}\n",
    "\n",
    "for index, row in data.iterrows():\n",
    "    if row['ICD9_CODE'] == '42731':\n",
    "        atrial_fib_data[int(row['SUBJECT_ID'])] = 1\n",
    "    elif atrial_fib_data.get(int(row['SUBJECT_ID'])) == 0 or atrial_fib_data.get(int(row['SUBJECT_ID'])) == None:\n",
    "        atrial_fib_data[int(row['SUBJECT_ID'])] = 0\n",
    "\n",
    "# store the dictionary data as an array\n",
    "afib_data_array = []\n",
    "patient_id_array = []\n",
    "for key in atrial_fib_data:\n",
    "    patient_id_array.append(key)\n",
    "    afib_data_array.append(atrial_fib_data[key])"
   ]
  },
  {
   "cell_type": "code",
   "execution_count": null,
   "id": "0ed405ff",
   "metadata": {},
   "outputs": [],
   "source": [
    "master_data = pd.DataFrame({'patient_id': patient_id_array, 'afib': afib_data_array})"
   ]
  },
  {
   "cell_type": "markdown",
   "id": "fc6a4640",
   "metadata": {},
   "source": [
    "### Process clinician's notes."
   ]
  },
  {
   "cell_type": "code",
   "execution_count": 8,
   "id": "ffc63616",
   "metadata": {},
   "outputs": [
    {
     "name": "stderr",
     "output_type": "stream",
     "text": [
      "/tmp/ipykernel_309183/2856085482.py:1: DtypeWarning: Columns (4,5) have mixed types. Specify dtype option on import or set low_memory=False.\n",
      "  notes = pd.read_csv('NOTEEVENTS.csv')\n"
     ]
    }
   ],
   "source": [
    "notes = pd.read_csv('NOTEEVENTS.csv')"
   ]
  },
  {
   "cell_type": "code",
   "execution_count": 9,
   "id": "ffbca0ee",
   "metadata": {},
   "outputs": [],
   "source": [
    "# store the notes data in a dictionary where the subject id maps to a tuple of the form (note, hospital admission id of the note)\n",
    "notes_data = {}\n",
    "\n",
    "for index, row in notes.iterrows():\n",
    "    if row['CATEGORY'] != 'Discharge summary' and row['DESCRIPTION'] == 'Report' and notes_data.get(row['SUBJECT_ID']) == None:\n",
    "        notes_data[row['SUBJECT_ID']] = (row['TEXT'], row['HADM_ID'])"
   ]
  },
  {
   "cell_type": "code",
   "execution_count": 24,
   "id": "885a89eb",
   "metadata": {},
   "outputs": [],
   "source": [
    "# create an array storing the notes corresponding to each patient's id\n",
    "\n",
    "notes_array = []\n",
    "hospital_admission_id_array = []\n",
    "\n",
    "for patient_id in patient_id_array:\n",
    "    # grab the info for the relevant patient id\n",
    "    info = notes_data.get(patient_id)\n",
    "\n",
    "    # if this patient does not have a clinician's note, then give them default values\n",
    "    if info == None:\n",
    "        notes_array.append('')\n",
    "        hospital_admission_id_array.append(-1)\n",
    "    else:\n",
    "        text = info[0]\n",
    "        # we replace newlines with whitespace\n",
    "        notes_array.append(text.replace('\\n', ' '))\n",
    "\n",
    "        # store the hospital admission id related to the clinician's note\n",
    "        # if there's no hospital admission id associated with the note, then give a default value\n",
    "        if math.isnan(info[1]):\n",
    "            hospital_admission_id_array.append(-1)\n",
    "        else:\n",
    "            hospital_admission_id_array.append(int(info[1]))    "
   ]
  },
  {
   "cell_type": "markdown",
   "id": "3d28f816",
   "metadata": {},
   "source": [
    "### Find the age of each patient."
   ]
  },
  {
   "cell_type": "code",
   "execution_count": 28,
   "id": "74f37bd0",
   "metadata": {},
   "outputs": [],
   "source": [
    "# read hospital admission data to get the date of the hospital admission\n",
    "admissions = pd.read_csv('ADMISSIONS.csv')"
   ]
  },
  {
   "cell_type": "code",
   "execution_count": 33,
   "id": "cb8b66f8",
   "metadata": {},
   "outputs": [],
   "source": [
    "# create a dictionary that maps hospital admission id to year of admission\n",
    "admissions_data = {}\n",
    "\n",
    "for index, row in admissions.iterrows():\n",
    "    hospital_admission_id = row['HADM_ID']\n",
    "    year_of_admission = row['ADMITTIME'][0:4]\n",
    "    admissions_data[hospital_admission_id] = year_of_admission"
   ]
  },
  {
   "cell_type": "code",
   "execution_count": 35,
   "id": "b66e21e1",
   "metadata": {},
   "outputs": [],
   "source": [
    "admission_year_array = []\n",
    "\n",
    "# find the year of admission that matches to the hospital admission id\n",
    "for hospital_admission_id in hospital_admission_id_array:\n",
    "    # if there's no hospital admission id associated with \n",
    "    if hospital_admission_id == -1:\n",
    "        year_of_admission = -1\n",
    "    else:\n",
    "        year_of_admission = admissions_data[hospital_admission_id]\n",
    "    admission_year_array.append(year_of_admission)"
   ]
  },
  {
   "cell_type": "code",
   "execution_count": 38,
   "id": "8473f8e6",
   "metadata": {},
   "outputs": [],
   "source": [
    "# read patient data to get their date of birth\n",
    "patients = pd.read_csv('PATIENTS.csv')"
   ]
  },
  {
   "cell_type": "code",
   "execution_count": 40,
   "id": "f64a2c60",
   "metadata": {},
   "outputs": [],
   "source": [
    "# create a dictionary that maps patient_id to date of birth\n",
    "year_of_birth_data = {}\n",
    "\n",
    "for index, row in patients.iterrows():\n",
    "    patient_id = row['SUBJECT_ID']\n",
    "    year_of_birth = row['DOB'][0:4]\n",
    "    year_of_birth_data[patient_id] = year_of_birth"
   ]
  },
  {
   "cell_type": "code",
   "execution_count": 41,
   "id": "237ed90b",
   "metadata": {},
   "outputs": [],
   "source": [
    "year_of_birth_array = []\n",
    "\n",
    "for patient_id in patient_id_array:\n",
    "    year_of_birth = year_of_birth_data[patient_id]\n",
    "    year_of_birth_array.append(year_of_birth)"
   ]
  },
  {
   "cell_type": "code",
   "execution_count": 46,
   "id": "3f4a3f1b",
   "metadata": {},
   "outputs": [],
   "source": [
    "age_array = []\n",
    "\n",
    "for i in range(len(admission_year_array)):\n",
    "    age_array.append(int(admission_year_array[i]) - int(year_of_birth_array[i]))"
   ]
  },
  {
   "cell_type": "code",
   "execution_count": null,
   "metadata": {},
   "outputs": [],
   "source": [
    "master_data['notes'] = notes_array\n",
    "master_data['age'] = age_array"
   ]
  },
  {
   "cell_type": "code",
   "execution_count": 51,
   "id": "73d8e45b",
   "metadata": {},
   "outputs": [],
   "source": [
    "# drop rows of data where the patient has an invalid age or is younger than 18\n",
    "\n",
    "master_data = master_data[master_data['age'] > 18]"
   ]
  },
  {
   "cell_type": "code",
   "execution_count": 53,
   "id": "ffc0ab76",
   "metadata": {},
   "outputs": [],
   "source": [
    "master_data = master_data.reset_index()"
   ]
  },
  {
   "cell_type": "markdown",
   "id": "5e2c2d7c",
   "metadata": {},
   "source": [
    "### Find the gender of each patient."
   ]
  },
  {
   "cell_type": "code",
   "execution_count": 56,
   "id": "6487452f",
   "metadata": {},
   "outputs": [],
   "source": [
    "master_data.to_csv('master_data.csv', index=False)"
   ]
  },
  {
   "cell_type": "code",
   "execution_count": 4,
   "id": "4295610c",
   "metadata": {},
   "outputs": [],
   "source": [
    "patient_data = pd.read_csv('../MIMIC-III/PATIENTS.csv')\n",
    "\n",
    "# create a dictionary that maps patient_id to gender\n",
    "# 0 is male, 1 is female\n",
    "gender_data = {}\n",
    "\n",
    "for index, row in patient_data.iterrows():\n",
    "    if row['GENDER'] == 'M':\n",
    "        gender_data[row['SUBJECT_ID']] = 0\n",
    "    elif row['GENDER'] == 'F':\n",
    "        gender_data[row['SUBJECT_ID']] = 1"
   ]
  },
  {
   "cell_type": "code",
   "execution_count": 9,
   "id": "b04075c7",
   "metadata": {},
   "outputs": [],
   "source": [
    "data = pd.read_csv('csv_files/processed_afib_data.csv')\n",
    "data = data.drop(columns=['index'])\n",
    "\n",
    "gender = []\n",
    "for index, row in data.iterrows():\n",
    "    gender.append(gender_data[row['patient_id']])"
   ]
  },
  {
   "cell_type": "code",
   "execution_count": null,
   "id": "72b222bc",
   "metadata": {},
   "outputs": [],
   "source": [
    "data['gender'] = gender\n",
    "\n",
    "data.to_csv('csv_files/master_data.csv', index=False)"
   ]
  }
 ],
 "metadata": {
  "kernelspec": {
   "display_name": "Python 3 (ipykernel)",
   "language": "python",
   "name": "python3"
  },
  "language_info": {
   "codemirror_mode": {
    "name": "ipython",
    "version": 3
   },
   "file_extension": ".py",
   "mimetype": "text/x-python",
   "name": "python",
   "nbconvert_exporter": "python",
   "pygments_lexer": "ipython3",
   "version": "3.10.11"
  }
 },
 "nbformat": 4,
 "nbformat_minor": 5
}
