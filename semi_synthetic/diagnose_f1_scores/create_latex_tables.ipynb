{
 "cells": [
  {
   "cell_type": "markdown",
   "metadata": {},
   "source": [
    "### May 3, 2024\n",
    "\n",
    "This file creates latex code for creating tables that display F1 scores of training supervised learners for the oracles. The tables appear in Section F of the appendix."
   ]
  },
  {
   "cell_type": "code",
   "execution_count": 1,
   "metadata": {},
   "outputs": [],
   "source": [
    "from create_latex_tables import *"
   ]
  },
  {
   "cell_type": "code",
   "execution_count": 2,
   "metadata": {},
   "outputs": [
    {
     "name": "stdout",
     "output_type": "stream",
     "text": [
      "Need herpes vaccination & Radiology & 0.000 & 1.000 & 1.000 & 1.000 & 1.000 \\\\ \n",
      "Hyperlipidemia & Nursing & 0.087 & 1.000 & 1.000 & 1.000 & 1.000 \\\\ \n",
      "Acute respiratory failure & Nursing & 0.132 & 1.000 & 1.000 & 1.000 & 1.000 \\\\ \n",
      "Need herpes vaccination & Echo & 0.000 & 1.000 & 1.000 & 1.000 & 1.000 \\\\ \n",
      "Coronary atherosclerosis & Nursing & 0.279 & 0.993 & 0.996 & 0.995 & 0.991 \\\\ \n",
      "Acute kidney failure & Nursing & 0.135 & 0.958 & 0.989 & 0.981 & 0.937 \\\\ \n",
      "Atrial fibrillation & Nursing & 0.231 & 0.879 & 0.946 & 0.909 & 0.851 \\\\ \n",
      "Coronary atherosclerosis & Echo & 0.375 & 0.844 & 0.888 & 0.885 & 0.807 \\\\ \n",
      "Coronary atherosclerosis & Radiology & 0.249 & 0.843 & 0.926 & 0.901 & 0.792 \\\\ \n",
      "Congestive heart failure & Nursing & 0.225 & 0.789 & 0.910 & 0.840 & 0.744 \\\\ \n",
      "Hypertension & Nursing & 0.417 & 0.762 & 0.806 & 0.779 & 0.747 \\\\ \n",
      "Congestive heart failure & Echo & 0.326 & 0.759 & 0.853 & 0.813 & 0.713 \\\\ \n",
      "Atrial fibrillation & Echo & 0.328 & 0.750 & 0.850 & 0.827 & 0.686 \\\\ \n",
      "Diabetes & Nursing & 0.168 & 0.744 & 0.922 & 0.828 & 0.675 \\\\ \n",
      "Atrial fibrillation & ECG & 0.263 & 0.742 & 0.883 & 0.886 & 0.638 \\\\ \n",
      "Hypertension & Echo & 0.457 & 0.712 & 0.744 & 0.733 & 0.693 \\\\ \n",
      "Hypertension & Radiology & 0.420 & 0.679 & 0.741 & 0.707 & 0.653 \\\\ \n",
      "Acute respiratory failure & Radiology & 0.145 & 0.675 & 0.917 & 0.781 & 0.594 \\\\ \n",
      "Hyperlipidemia & Echo & 0.226 & 0.662 & 0.866 & 0.768 & 0.581 \\\\ \n",
      "Congestive heart failure & Radiology & 0.207 & 0.661 & 0.877 & 0.771 & 0.578 \\\\ \n",
      "Atrial fibrillation & Radiology & 0.233 & 0.655 & 0.858 & 0.761 & 0.574 \\\\ \n",
      "Acute respiratory failure & Echo & 0.179 & 0.622 & 0.887 & 0.777 & 0.519 \\\\ \n",
      "Acute kidney failure & Radiology & 0.154 & 0.607 & 0.898 & 0.748 & 0.511 \\\\ \n",
      "Coronary atherosclerosis & ECG & 0.297 & 0.590 & 0.806 & 0.791 & 0.471 \\\\ \n",
      "Hyperlipidemia & Radiology & 0.163 & 0.578 & 0.885 & 0.723 & 0.481 \\\\ \n",
      "Acute kidney failure & Echo & 0.194 & 0.571 & 0.863 & 0.732 & 0.468 \\\\ \n",
      "Congestive heart failure & ECG & 0.238 & 0.555 & 0.835 & 0.772 & 0.433 \\\\ \n",
      "Hypertension & ECG & 0.445 & 0.541 & 0.658 & 0.672 & 0.453 \\\\ \n",
      "Diabetes & Echo & 0.201 & 0.524 & 0.851 & 0.729 & 0.409 \\\\ \n",
      "Diabetes & Radiology & 0.172 & 0.453 & 0.860 & 0.688 & 0.338 \\\\ \n",
      "Acute respiratory failure & ECG & 0.148 & 0.391 & 0.879 & 0.769 & 0.262 \\\\ \n",
      "Hyperlipidemia & ECG & 0.182 & 0.381 & 0.849 & 0.746 & 0.256 \\\\ \n",
      "Acute kidney failure & ECG & 0.167 & 0.365 & 0.861 & 0.774 & 0.239 \\\\ \n",
      "Diabetes & ECG & 0.187 & 0.307 & 0.839 & 0.785 & 0.191 \\\\ \n",
      "\n"
     ]
    }
   ],
   "source": [
    "sectionF('diagnose_f1_scores_all_results.p')"
   ]
  }
 ],
 "metadata": {
  "kernelspec": {
   "display_name": "proximal_w_nlp",
   "language": "python",
   "name": "python3"
  },
  "language_info": {
   "codemirror_mode": {
    "name": "ipython",
    "version": 3
   },
   "file_extension": ".py",
   "mimetype": "text/x-python",
   "name": "python",
   "nbconvert_exporter": "python",
   "pygments_lexer": "ipython3",
   "version": "3.12.2"
  }
 },
 "nbformat": 4,
 "nbformat_minor": 2
}
