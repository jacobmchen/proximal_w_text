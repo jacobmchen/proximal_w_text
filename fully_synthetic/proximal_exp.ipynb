{
 "cells": [
  {
   "cell_type": "markdown",
   "metadata": {},
   "source": [
    "# Proximal Causal Inference Synthetic Simulations\n",
    "\n",
    "In this set of experiments, we attempt to simulate text-based proximal causal inference when two pieces of text data are independent and representative of the underlying distribution of text data. Below are the steps of the experiment:\n",
    "\n",
    "1. Make a training dataset DTrain. For each row of data in DTrain, generate two realizations of X1, X2, X3, and X4. \n",
    "2. Generate X = [mean(X11, X12), mean(X21, X22), mean(X31, X32), mean(X41, X42)]. Train a single linear logistic regression on this data to predict U. This simulates training a zero-shot classifier on some broad background/training data.\n",
    "3. Make a dataset that simulates inference time DInference. For each row of data, generate two realizations of X1, X2, X3, and X4. These two realizations of X1 through X4 are independent by definition.\n",
    "4. Apply the previously trained 'zero-shot model' to obtain Z and W from the two realizations of X1, X2, X3, and X4.\n",
    "5. Proceed with proximal pipeline as usual."
   ]
  },
  {
   "cell_type": "code",
   "execution_count": 90,
   "metadata": {},
   "outputs": [],
   "source": [
    "import pandas as pd\n",
    "import numpy as np\n",
    "from scipy.special import expit\n",
    "import statsmodels.api as sm\n",
    "\n",
    "np.random.seed(2)\n",
    "size = 20000"
   ]
  },
  {
   "cell_type": "markdown",
   "metadata": {},
   "source": [
    "Code implementing future helper functions."
   ]
  },
  {
   "cell_type": "code",
   "execution_count": 91,
   "metadata": {},
   "outputs": [],
   "source": [
    "def binary_predictions(a):\n",
    "    # takes array a of probabilities, and returns a prediction for 0s and 1s\n",
    "    output = []\n",
    "\n",
    "    for ele in a:\n",
    "        if ele < 0.5:\n",
    "            output.append(0)\n",
    "        else:\n",
    "            output.append(1)\n",
    "\n",
    "    # output = np.random.binomial(1, a, len(a))\n",
    "\n",
    "    return output\n",
    "\n",
    "def proximal_find_ace(A, Y, W, Z, covariates, data):\n",
    "    # fit a model W~A+Z\n",
    "    formula = W+\"~\"+A+\"+\"+Z\n",
    "    if len(covariates) > 0:\n",
    "        formula += '+' + '+'.join(covariates)\n",
    "    model1 = sm.GLM.from_formula(formula=formula, data=data, family=sm.families.Binomial()).fit()\n",
    "\n",
    "    # make predictions for What\n",
    "    What = model1.predict(data)\n",
    "    data[\"What\"] = What\n",
    "\n",
    "    # fit a model Y~A+What\n",
    "    formula = Y+\"~\"+A+\"+What\"\n",
    "    if len(covariates) > 0:\n",
    "        formula += '+' + '+'.join(covariates)\n",
    "    model2 = sm.GLM.from_formula(formula=formula, data=data, family=sm.families.Gaussian()).fit()\n",
    "\n",
    "    # the ACE is the coefficient for A in model2\n",
    "    return model2.params[A]\n",
    "\n",
    "def compute_confidence_intervals(A, Y, W, Z, covariates, data, num_bootstraps=200, alpha=0.05):\n",
    "    \"\"\"\n",
    "    Compute confidence intervals for backdoor adjustment via bootstrap\n",
    "    \n",
    "    Returns tuple (q_low, q_up) for the lower and upper quantiles of the confidence interval.\n",
    "    \"\"\"\n",
    "    \n",
    "    Ql = alpha/2\n",
    "    Qu = 1 - alpha/2\n",
    "    # two lists for the two indexes of output\n",
    "    estimates = []\n",
    "    \n",
    "    for i in range(num_bootstraps):\n",
    "        \n",
    "        # resample the data with replacement\n",
    "        data_sampled = data.sample(len(data), replace=True)\n",
    "        data_sampled.reset_index(drop=True, inplace=True)\n",
    "        \n",
    "        # add estimate from resampled data\n",
    "        output = proximal_find_ace(A, Y, W, Z, covariates, data_sampled)\n",
    "        estimates.append(output)\n",
    "\n",
    "    # calculate the quantiles\n",
    "    quantiles = np.quantile(estimates, q=[Ql, Qu])\n",
    "    q_low = quantiles[0]\n",
    "    q_up = quantiles[1]\n",
    "    \n",
    "    return (q_low, q_up)\n",
    "\n",
    "def odds_ratio(X, Y, Z, data):\n",
    "    # calculate the odds ratio assuming linearity\n",
    "\n",
    "    formula = X + '~1+' + Y\n",
    "    if len(Z) > 0:\n",
    "        formula += '+' + '+'.join(Z)\n",
    "\n",
    "    model = sm.GLM.from_formula(formula=formula, data=data, family=sm.families.Binomial()).fit()\n",
    "\n",
    "    return np.exp(model.params[Y])"
   ]
  },
  {
   "cell_type": "markdown",
   "metadata": {},
   "source": [
    "Define the data generating process."
   ]
  },
  {
   "cell_type": "code",
   "execution_count": 92,
   "metadata": {},
   "outputs": [],
   "source": [
    "def generate_data():\n",
    "    U = np.random.binomial(1, 0.48, size)\n",
    "\n",
    "    # create a baseline confounder\n",
    "    C = np.random.normal(0, 1, size)\n",
    "    C_coefficient = 1.5\n",
    "\n",
    "    X11 = np.random.normal(0, 1, size) + 2*U + C_coefficient*C\n",
    "    X12 = np.random.normal(0, 1, size) + 2*U + C_coefficient*C\n",
    "\n",
    "    # make sure that X2 is some non-linear function\n",
    "    X21 = np.random.normal(0, 1, size) + np.exp(X11) + U + C_coefficient*C\n",
    "    X22 = np.random.normal(0, 1, size) + np.exp(X12) + U + C_coefficient*C\n",
    "\n",
    "    X31 = np.random.normal(0, 1, size) + 1.3*U + C_coefficient*C\n",
    "    X32 = np.random.normal(0, 1, size) + 1.3*U + C_coefficient*C\n",
    "\n",
    "    # make sure that X4 is some non-linear function\n",
    "    X41 = np.random.normal(0, 1, size) + X31**2 + 0.5*X31**3 + U + C_coefficient*C\n",
    "    X42 = np.random.normal(0, 1, size) + X32**2 + 0.5*X32**3 + U + C_coefficient*C\n",
    "\n",
    "    A = np.random.binomial(1, expit(0.8*U+C-0.3), size)\n",
    "\n",
    "    Y = np.random.normal(0, 1, size) + 1.3*A + 1.4*U + 1.2*C\n",
    "\n",
    "    data = pd.DataFrame({\"U\": U, \"X11\": X11, \"X21\": X21, \"X31\": X31, \"X41\": X41, \"X12\": X12, \"X22\": X22, \"X32\": X32, \"X42\": X42,\n",
    "                         \"A\": A, \"Y\": Y, \"C\": C})\n",
    "\n",
    "    return data"
   ]
  },
  {
   "cell_type": "markdown",
   "metadata": {},
   "source": [
    "Generate training dataset."
   ]
  },
  {
   "cell_type": "code",
   "execution_count": 93,
   "metadata": {},
   "outputs": [],
   "source": [
    "Dtrain = generate_data()\n",
    "\n",
    "# simulate the creation of a 'broad zero-shot predictor'\n",
    "Dtrain['X1'] = (Dtrain['X11']+Dtrain['X12'])/2\n",
    "Dtrain['X2'] = (Dtrain['X21']+Dtrain['X22'])/2\n",
    "Dtrain['X3'] = (Dtrain['X31']+Dtrain['X32'])/2\n",
    "Dtrain['X4'] = (Dtrain['X41']+Dtrain['X42'])/2"
   ]
  },
  {
   "cell_type": "markdown",
   "metadata": {},
   "source": [
    "Train a linear logistic regressor to simulate a zero-shot classifier."
   ]
  },
  {
   "cell_type": "code",
   "execution_count": null,
   "metadata": {},
   "outputs": [],
   "source": [
    "zero_shot_model = sm.GLM.from_formula(formula=\"U~X1+X2+X3+X4\", data=Dtrain, family=sm.families.Binomial()).fit()\n",
    "\n",
    "zero_shot_model.summary()"
   ]
  },
  {
   "cell_type": "markdown",
   "metadata": {},
   "source": [
    "Generate the inference dataset, and generate Z and W by using the two realizations of the covariates."
   ]
  },
  {
   "cell_type": "code",
   "execution_count": 95,
   "metadata": {},
   "outputs": [],
   "source": [
    "DInference = generate_data()\n",
    "\n",
    "# create the two realizations of the covariates to generate Z and W\n",
    "realization1 = pd.DataFrame()\n",
    "realization1['X1'] = DInference['X11']\n",
    "realization1['X2'] = DInference['X21']\n",
    "realization1['X3'] = DInference['X31']\n",
    "realization1['X4'] = DInference['X41']\n",
    "\n",
    "W = binary_predictions(zero_shot_model.predict(realization1))\n",
    "\n",
    "realization2 = pd.DataFrame()\n",
    "realization2['X1'] = DInference['X12']\n",
    "realization2['X2'] = DInference['X22']\n",
    "realization2['X3'] = DInference['X32']\n",
    "realization2['X4'] = DInference['X42']\n",
    "\n",
    "Z = binary_predictions(zero_shot_model.predict(realization2))\n",
    "\n",
    "DInference['Z'] = Z\n",
    "DInference['W'] = W"
   ]
  },
  {
   "cell_type": "markdown",
   "metadata": {},
   "source": [
    "Verify odds ratio values between W and Z."
   ]
  },
  {
   "cell_type": "code",
   "execution_count": null,
   "metadata": {},
   "outputs": [],
   "source": [
    "print(\"odds ratio, nominal:\", odds_ratio(\"W\", \"Z\", [], DInference))\n",
    "print(\"odds ratio, condition C:\", odds_ratio(\"W\", \"Z\", [\"C\"], DInference))\n",
    "print(\"odds ratio, condition C and U:\", odds_ratio(\"W\", \"Z\", [\"C\", \"U\"], DInference))"
   ]
  },
  {
   "cell_type": "markdown",
   "metadata": {},
   "source": [
    "Proceed with the causal inference pipeline as normal."
   ]
  },
  {
   "cell_type": "code",
   "execution_count": null,
   "metadata": {},
   "outputs": [],
   "source": [
    "print(proximal_find_ace(\"A\", \"Y\", \"W\", \"Z\", [\"C\"], DInference))\n",
    "print(compute_confidence_intervals(\"A\", \"Y\", \"W\", \"Z\", [\"C\"], DInference))"
   ]
  },
  {
   "cell_type": "markdown",
   "metadata": {},
   "source": [
    "Generate the proxies from the same realization of data, this violates P1 on purpose and should produce biased results."
   ]
  },
  {
   "cell_type": "code",
   "execution_count": 98,
   "metadata": {},
   "outputs": [],
   "source": [
    "W = binary_predictions(zero_shot_model.predict(realization1))\n",
    "\n",
    "Z = binary_predictions(zero_shot_model.predict(realization1))\n",
    "\n",
    "DInference['Z'] = Z\n",
    "DInference['W'] = W"
   ]
  },
  {
   "cell_type": "markdown",
   "metadata": {},
   "source": [
    "Verify odds ratio values."
   ]
  },
  {
   "cell_type": "code",
   "execution_count": null,
   "metadata": {},
   "outputs": [],
   "source": [
    "print(\"odds ratio, nominal:\", odds_ratio(\"W\", \"Z\", [], DInference))\n",
    "print(\"odds ratio, condition C:\", odds_ratio(\"W\", \"Z\", [\"C\"], DInference))\n",
    "print(\"odds ratio, condition C and U:\", odds_ratio(\"W\", \"Z\", [\"C\", \"U\"], DInference))"
   ]
  },
  {
   "cell_type": "code",
   "execution_count": null,
   "metadata": {},
   "outputs": [],
   "source": [
    "print(proximal_find_ace(\"A\", \"Y\", \"W\", \"Z\", ['C'], DInference))\n",
    "print(compute_confidence_intervals(\"A\", \"Y\", \"W\", \"Z\", ['C'], DInference))"
   ]
  },
  {
   "cell_type": "markdown",
   "metadata": {},
   "source": [
    "## Part 2\n",
    "\n",
    "Use the zero-shot predictor to generate a proxy W and a simple heuristic based predictor to generate the proxy Z. Then, proceed with proximal causal inference as normal."
   ]
  },
  {
   "cell_type": "code",
   "execution_count": 101,
   "metadata": {},
   "outputs": [],
   "source": [
    "DInference = generate_data()\n",
    "\n",
    "# create the first realization of the covariates to generate W\n",
    "realization1 = pd.DataFrame()\n",
    "realization1['X1'] = DInference['X11']\n",
    "realization1['X2'] = DInference['X21']\n",
    "realization1['X3'] = DInference['X31']\n",
    "realization1['X4'] = DInference['X41']\n",
    "\n",
    "W = binary_predictions(zero_shot_model.predict(realization1))\n",
    "\n",
    "# use a simple heuristic for the second realization of the covariates to generate the proxy Z\n",
    "# (this heuristic attains roughly accuracy 0.84)\n",
    "Z = []\n",
    "for i in range(size):\n",
    "    if DInference['X12'][i] > 1.1:\n",
    "        Z.append(1)\n",
    "    else:\n",
    "        Z.append(0)\n",
    "\n",
    "DInference['W'] = W\n",
    "DInference['Z'] = Z"
   ]
  },
  {
   "cell_type": "markdown",
   "metadata": {},
   "source": [
    "Verify odds ratio values between W and Z."
   ]
  },
  {
   "cell_type": "code",
   "execution_count": null,
   "metadata": {},
   "outputs": [],
   "source": [
    "print(\"odds ratio, nominal:\", odds_ratio(\"W\", \"Z\", [], DInference))\n",
    "print(\"odds ratio, condition C:\", odds_ratio(\"W\", \"Z\", [\"C\"], DInference))\n",
    "print(\"odds ratio, condition C and U:\", odds_ratio(\"W\", \"Z\", [\"C\", \"U\"], DInference))"
   ]
  },
  {
   "cell_type": "markdown",
   "metadata": {},
   "source": [
    "Proceed with proximal causal inference pipeline."
   ]
  },
  {
   "cell_type": "code",
   "execution_count": null,
   "metadata": {},
   "outputs": [],
   "source": [
    "print(proximal_find_ace(\"A\", \"Y\", \"W\", \"Z\", [\"C\"], DInference))\n",
    "print(compute_confidence_intervals(\"A\", \"Y\", \"W\", \"Z\", [\"C\"], DInference))"
   ]
  },
  {
   "cell_type": "markdown",
   "metadata": {},
   "source": [
    "Generate the proxies from the same realization of data, this violates P1 on purpose and should produce biased results."
   ]
  },
  {
   "cell_type": "code",
   "execution_count": 104,
   "metadata": {},
   "outputs": [],
   "source": [
    "W = binary_predictions(zero_shot_model.predict(realization1))\n",
    "\n",
    "# use a simple heuristic on the same realization of the covariates to generate the proxy Z\n",
    "# (this heuristic attains roughly accuracy 0.84)\n",
    "Z = []\n",
    "for i in range(size):\n",
    "    if DInference['X11'][i] > 1.1:\n",
    "        Z.append(1)\n",
    "    else:\n",
    "        Z.append(0)\n",
    "\n",
    "DInference['W'] = W\n",
    "DInference['Z'] = Z"
   ]
  },
  {
   "cell_type": "markdown",
   "metadata": {},
   "source": [
    "Verify odds ratio values."
   ]
  },
  {
   "cell_type": "code",
   "execution_count": null,
   "metadata": {},
   "outputs": [],
   "source": [
    "print(\"odds ratio, nominal:\", odds_ratio(\"W\", \"Z\", [], DInference))\n",
    "print(\"odds ratio, condition C:\", odds_ratio(\"W\", \"Z\", [\"C\"], DInference))\n",
    "print(\"odds ratio, condition C and U:\", odds_ratio(\"W\", \"Z\", [\"C\", \"U\"], DInference))"
   ]
  },
  {
   "cell_type": "code",
   "execution_count": null,
   "metadata": {},
   "outputs": [],
   "source": [
    "print(proximal_find_ace(\"A\", \"Y\", \"W\", \"Z\", [\"C\"], DInference))\n",
    "print(compute_confidence_intervals(\"A\", \"Y\", \"W\", \"Z\", [\"C\"], DInference))"
   ]
  }
 ],
 "metadata": {
  "kernelspec": {
   "display_name": "Python 3",
   "language": "python",
   "name": "python3"
  },
  "language_info": {
   "codemirror_mode": {
    "name": "ipython",
    "version": 3
   },
   "file_extension": ".py",
   "mimetype": "text/x-python",
   "name": "python",
   "nbconvert_exporter": "python",
   "pygments_lexer": "ipython3",
   "version": "3.10.11"
  }
 },
 "nbformat": 4,
 "nbformat_minor": 2
}
